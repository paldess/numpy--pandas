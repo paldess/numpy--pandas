{
 "cells": [
  {
   "cell_type": "markdown",
   "id": "13531713",
   "metadata": {},
   "source": [
    "### Задание 1"
   ]
  },
  {
   "cell_type": "code",
   "execution_count": 1,
   "id": "7290ce67",
   "metadata": {},
   "outputs": [],
   "source": [
    "import numpy as np"
   ]
  },
  {
   "cell_type": "code",
   "execution_count": 2,
   "id": "5fd15043",
   "metadata": {},
   "outputs": [],
   "source": [
    "b = [[1, 2, 3, 3, 1], [6, 8, 11, 10, 7]]"
   ]
  },
  {
   "cell_type": "code",
   "execution_count": 3,
   "id": "8bc51c13",
   "metadata": {},
   "outputs": [],
   "source": [
    "a = np.array(b)"
   ]
  },
  {
   "cell_type": "code",
   "execution_count": 4,
   "id": "233f30a7",
   "metadata": {},
   "outputs": [],
   "source": [
    "mean_a = np.mean(a, axis=1)"
   ]
  },
  {
   "cell_type": "code",
   "execution_count": 5,
   "id": "b82b6de9",
   "metadata": {},
   "outputs": [
    {
     "data": {
      "text/plain": [
       "array([2. , 8.4])"
      ]
     },
     "execution_count": 5,
     "metadata": {},
     "output_type": "execute_result"
    }
   ],
   "source": [
    "mean_a"
   ]
  },
  {
   "cell_type": "markdown",
   "id": "40cc8836",
   "metadata": {},
   "source": [
    "### Задание 2"
   ]
  },
  {
   "cell_type": "code",
   "execution_count": 9,
   "id": "f0e27e51",
   "metadata": {
    "scrolled": true
   },
   "outputs": [
    {
     "data": {
      "text/plain": [
       "array([[ 1,  2,  3,  3,  1],\n",
       "       [ 6,  8, 11, 10,  7]])"
      ]
     },
     "execution_count": 9,
     "metadata": {},
     "output_type": "execute_result"
    }
   ],
   "source": [
    "a"
   ]
  },
  {
   "cell_type": "code",
   "execution_count": 20,
   "id": "70416c9d",
   "metadata": {},
   "outputs": [
    {
     "data": {
      "text/plain": [
       "array([[-1. ,  0. ,  1. ,  1. , -1. ],\n",
       "       [-2.4, -0.4,  2.6,  1.6, -1.4]])"
      ]
     },
     "execution_count": 20,
     "metadata": {},
     "output_type": "execute_result"
    }
   ],
   "source": [
    "a_centered = np.concatenate(([a[0] - mean_a[0]], [a[1] - mean_a[1]]), axis=0)\n",
    "a_centered"
   ]
  }
 ],
 "metadata": {
  "kernelspec": {
   "display_name": "Python 3",
   "language": "python",
   "name": "python3"
  },
  "language_info": {
   "codemirror_mode": {
    "name": "ipython",
    "version": 3
   },
   "file_extension": ".py",
   "mimetype": "text/x-python",
   "name": "python",
   "nbconvert_exporter": "python",
   "pygments_lexer": "ipython3",
   "version": "3.8.8"
  }
 },
 "nbformat": 4,
 "nbformat_minor": 5
}
