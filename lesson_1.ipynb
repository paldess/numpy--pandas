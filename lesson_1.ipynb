{
 "cells": [
  {
   "cell_type": "markdown",
   "id": "394de1a8",
   "metadata": {},
   "source": [
    "### Задание 1"
   ]
  },
  {
   "cell_type": "code",
   "execution_count": 1,
   "id": "b070e945",
   "metadata": {},
   "outputs": [
    {
     "name": "stdout",
     "output_type": "stream",
     "text": [
      "[1, 6, 2, 8, 3, 11, 3, 10, 1, 7]\n"
     ]
    }
   ],
   "source": [
    "import numpy as np\n",
    "one=[1, 2, 3, 3, 1]\n",
    "two=[6, 8, 11, 10, 7]\n",
    "massive=[]\n",
    "for i in range(len(one)):\n",
    "    massive.append(one[i])\n",
    "    massive.append(two[i])\n",
    "print(massive)"
   ]
  },
  {
   "cell_type": "code",
   "execution_count": 2,
   "id": "d4b1e724",
   "metadata": {},
   "outputs": [
    {
     "name": "stdout",
     "output_type": "stream",
     "text": [
      "[[ 1  6]\n",
      " [ 2  8]\n",
      " [ 3 11]\n",
      " [ 3 10]\n",
      " [ 1  7]]\n"
     ]
    }
   ],
   "source": [
    "massive=np.array(massive)\n",
    "a =np.reshape(massive, (5, -1))\n",
    "print(a)"
   ]
  },
  {
   "cell_type": "code",
   "execution_count": 3,
   "id": "0921ea2e",
   "metadata": {},
   "outputs": [
    {
     "name": "stdout",
     "output_type": "stream",
     "text": [
      "[2.  8.4]\n"
     ]
    }
   ],
   "source": [
    "mean_a=np.mean(a, axis=0)\n",
    "print(mean_a)"
   ]
  },
  {
   "cell_type": "markdown",
   "id": "690e090c",
   "metadata": {},
   "source": [
    "### Задание 2"
   ]
  },
  {
   "cell_type": "code",
   "execution_count": 4,
   "id": "6912be46",
   "metadata": {},
   "outputs": [
    {
     "name": "stdout",
     "output_type": "stream",
     "text": [
      "[[-1.  -2.4]\n",
      " [ 0.  -0.4]\n",
      " [ 1.   2.6]\n",
      " [ 1.   1.6]\n",
      " [-1.  -1.4]]\n"
     ]
    }
   ],
   "source": [
    "a_centered=np.subtract(a, mean_a)\n",
    "print(a_centered)"
   ]
  },
  {
   "cell_type": "markdown",
   "id": "db4be060",
   "metadata": {},
   "source": [
    "### Задание 3"
   ]
  },
  {
   "cell_type": "code",
   "execution_count": 5,
   "id": "daa1f4a7",
   "metadata": {},
   "outputs": [
    {
     "name": "stdout",
     "output_type": "stream",
     "text": [
      "2.0\n"
     ]
    }
   ],
   "source": [
    "x=a_centered[:, 0]\n",
    "y=a_centered[:, 1]\n",
    "a_centered_sp =(np.dot(x, y))/(len(x)-1)\n",
    "print(a_centered_sp )\n",
    "\n"
   ]
  },
  {
   "cell_type": "markdown",
   "id": "0c1a6eef",
   "metadata": {},
   "source": [
    "### Задание 4**"
   ]
  },
  {
   "cell_type": "code",
   "execution_count": 6,
   "id": "302ea29a",
   "metadata": {
    "scrolled": true
   },
   "outputs": [
    {
     "name": "stdout",
     "output_type": "stream",
     "text": [
      "[[1.  2. ]\n",
      " [2.  4.3]]\n"
     ]
    }
   ],
   "source": [
    "print(np.cov(a.T))"
   ]
  },
  {
   "cell_type": "markdown",
   "id": "fcc09f21",
   "metadata": {},
   "source": [
    "### Проверка с инета https://studopedia.ru/9_153900_viborochnaya-kovariatsiya-i-viborochnaya-dispersiya.html"
   ]
  },
  {
   "cell_type": "code",
   "execution_count": 22,
   "id": "3dc3d662",
   "metadata": {
    "scrolled": true
   },
   "outputs": [
    {
     "name": "stdout",
     "output_type": "stream",
     "text": [
      "[[103.5  26.2]\n",
      " [127.   24.8]\n",
      " [126.   25.6]\n",
      " [124.8  26.8]\n",
      " [124.7  27.7]\n",
      " [121.6  28.3]\n",
      " [149.7  27.4]\n",
      " [188.8  25.1]\n",
      " [193.6  25.2]\n",
      " [173.9  25.6]]\n",
      "******************************\n",
      "[[ 26.2 103.5]\n",
      " [ 24.8 127. ]\n",
      " [ 25.6 126. ]\n",
      " [ 26.8 124.8]\n",
      " [ 27.7 124.7]\n",
      " [ 28.3 121.6]\n",
      " [ 27.4 149.7]\n",
      " [ 25.1 188.8]\n",
      " [ 25.2 193.6]\n",
      " [ 25.6 173.9]]\n",
      "******************************\n",
      "[[  1.47788889 -18.04911111]\n",
      " [-18.04911111 987.30488889]]\n",
      "******************************\n",
      "[[987.30488889 -18.04911111]\n",
      " [-18.04911111   1.47788889]]\n",
      "******************************\n",
      "[ 26.27 143.36]\n"
     ]
    }
   ],
   "source": [
    "a_11=np.array([26.2, 103.5, 24.8, 127, 25.6, 126, 26.8, 124.8, 27.7, 124.7, 28.3, 121.6, 27.4, 149.7, 25.1, 188.8, 25.2, 193.6, 25.6, 173.9])\n",
    "a_12=np.array([103.5, 26.2, 127, 24.8, 126, 25.6, 124.8, 26.8, 124.7, 27.7, 121.6, 28.3, 149.7, 27.4, 188.8, 25.1, 193.6, 25.2, 173.9, 25.6])\n",
    "a_1=np.reshape(a_11, (-1, 2))\n",
    "a_2=np.reshape(a_12, (-1, 2))\n",
    "print(a_2)\n",
    "print('*'*30)\n",
    "print(a_1)\n",
    "print('*'*30)\n",
    "print(np.cov(a_1.T))\n",
    "print('*'*30)\n",
    "print(np.cov(a_2.T))\n",
    "print('*'*30)\n",
    "print(np.mean(a_1, axis=0))\n",
    "xq=np.mean(a_1, axis=0)\n"
   ]
  },
  {
   "cell_type": "code",
   "execution_count": 26,
   "id": "118f7861",
   "metadata": {},
   "outputs": [
    {
     "name": "stdout",
     "output_type": "stream",
     "text": [
      "-18.04911111111111\n"
     ]
    }
   ],
   "source": [
    "res= np.subtract(a_1, xq)\n",
    "res_1=(np.dot(res[:, 0], res[:, 1]))/(len(res)-1)\n",
    "print(res_1)"
   ]
  }
 ],
 "metadata": {
  "kernelspec": {
   "display_name": "Python 3",
   "language": "python",
   "name": "python3"
  },
  "language_info": {
   "codemirror_mode": {
    "name": "ipython",
    "version": 3
   },
   "file_extension": ".py",
   "mimetype": "text/x-python",
   "name": "python",
   "nbconvert_exporter": "python",
   "pygments_lexer": "ipython3",
   "version": "3.8.8"
  }
 },
 "nbformat": 4,
 "nbformat_minor": 5
}
