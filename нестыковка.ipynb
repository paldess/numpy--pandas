{
 "cells": [
  {
   "cell_type": "markdown",
   "id": "fd4cb3c2",
   "metadata": {},
   "source": [
    "### Проверка с инета https://studopedia.ru/9_153900_viborochnaya-kovariatsiya-i-viborochnaya-dispersiya.html"
   ]
  },
  {
   "cell_type": "code",
   "execution_count": 1,
   "id": "66b96bf1",
   "metadata": {},
   "outputs": [],
   "source": [
    "import numpy as np"
   ]
  },
  {
   "cell_type": "code",
   "execution_count": 2,
   "id": "12677498",
   "metadata": {},
   "outputs": [
    {
     "name": "stdout",
     "output_type": "stream",
     "text": [
      "[[103.5  26.2]\n",
      " [127.   24.8]\n",
      " [126.   25.6]\n",
      " [124.8  26.8]\n",
      " [124.7  27.7]\n",
      " [121.6  28.3]\n",
      " [149.7  27.4]\n",
      " [188.8  25.1]\n",
      " [193.6  25.2]\n",
      " [173.9  25.6]]\n",
      "******************************\n",
      "[[ 26.2 103.5]\n",
      " [ 24.8 127. ]\n",
      " [ 25.6 126. ]\n",
      " [ 26.8 124.8]\n",
      " [ 27.7 124.7]\n",
      " [ 28.3 121.6]\n",
      " [ 27.4 149.7]\n",
      " [ 25.1 188.8]\n",
      " [ 25.2 193.6]\n",
      " [ 25.6 173.9]]\n",
      "******************************\n",
      "[[  1.47788889 -18.04911111]\n",
      " [-18.04911111 987.30488889]]\n",
      "******************************\n",
      "[[987.30488889 -18.04911111]\n",
      " [-18.04911111   1.47788889]]\n",
      "******************************\n",
      "[ 26.27 143.36]\n"
     ]
    }
   ],
   "source": [
    "a_11=np.array([26.2, 103.5, 24.8, 127, 25.6, 126, 26.8, 124.8, 27.7, 124.7, 28.3, 121.6, 27.4, 149.7, 25.1, 188.8, 25.2, 193.6, 25.6, 173.9])\n",
    "a_12=np.array([103.5, 26.2, 127, 24.8, 126, 25.6, 124.8, 26.8, 124.7, 27.7, 121.6, 28.3, 149.7, 27.4, 188.8, 25.1, 193.6, 25.2, 173.9, 25.6])\n",
    "a_1=np.reshape(a_11, (-1, 2))\n",
    "a_2=np.reshape(a_12, (-1, 2))\n",
    "print(a_2)\n",
    "print('*'*30)\n",
    "print(a_1)\n",
    "print('*'*30)\n",
    "print(np.cov(a_1.T))\n",
    "print('*'*30)\n",
    "print(np.cov(a_2.T))\n",
    "print('*'*30)\n",
    "print(np.mean(a_1, axis=0))\n",
    "xq=np.mean(a_1, axis=0)\n"
   ]
  },
  {
   "cell_type": "code",
   "execution_count": 3,
   "id": "0bae4762",
   "metadata": {},
   "outputs": [
    {
     "name": "stdout",
     "output_type": "stream",
     "text": [
      "-18.04911111111111\n"
     ]
    }
   ],
   "source": [
    "res= np.subtract(a_1, xq)\n",
    "res_1=(np.dot(res[:, 0], res[:, 1]))/(len(res)-1)\n",
    "print(res_1)"
   ]
  }
 ],
 "metadata": {
  "kernelspec": {
   "display_name": "Python 3",
   "language": "python",
   "name": "python3"
  },
  "language_info": {
   "codemirror_mode": {
    "name": "ipython",
    "version": 3
   },
   "file_extension": ".py",
   "mimetype": "text/x-python",
   "name": "python",
   "nbconvert_exporter": "python",
   "pygments_lexer": "ipython3",
   "version": "3.8.8"
  }
 },
 "nbformat": 4,
 "nbformat_minor": 5
}
